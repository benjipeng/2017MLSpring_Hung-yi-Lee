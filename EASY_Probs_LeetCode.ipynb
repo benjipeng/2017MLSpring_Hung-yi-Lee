{
  "nbformat": 4,
  "nbformat_minor": 0,
  "metadata": {
    "colab": {
      "provenance": [],
      "authorship_tag": "ABX9TyOX/3xsCU+iQUIrnSn+yYCs",
      "include_colab_link": true
    },
    "kernelspec": {
      "name": "python3",
      "display_name": "Python 3"
    },
    "language_info": {
      "name": "python"
    }
  },
  "cells": [
    {
      "cell_type": "markdown",
      "metadata": {
        "id": "view-in-github",
        "colab_type": "text"
      },
      "source": [
        "<a href=\"https://colab.research.google.com/github/benjipeng/2017MLSpring_Hung-yi-Lee/blob/master/EASY_Probs_LeetCode.ipynb\" target=\"_parent\"><img src=\"https://colab.research.google.com/assets/colab-badge.svg\" alt=\"Open In Colab\"/></a>"
      ]
    },
    {
      "cell_type": "markdown",
      "source": [
        "# Some"
      ],
      "metadata": {
        "id": "KF4Rkoqvtz0P"
      }
    },
    {
      "cell_type": "markdown",
      "source": [
        "## 989. Add to Array-Form of Integer\n",
        "\n",
        "The array-form of an integer num is an array representing its digits in left to right order.\n",
        "\n",
        "For example, for num = 1321, the array form is [1,3,2,1].\n",
        "Given num, the array-form of an integer, and an integer k, return the array-form of the integer num + k.\n",
        "\n",
        "\n",
        "**Example 1:**\n",
        "\n",
        "Input: num = [1,2,0,0], k = 34\n",
        "Output: [1,2,3,4]\n",
        "Explanation: 1200 + 34 = 1234\n",
        "**Example 2:**\n",
        "\n",
        "Input: num = [2,7,4], k = 181\n",
        "Output: [4,5,5]\n",
        "Explanation: 274 + 181 = 455\n",
        "**Example 3:**\n",
        "\n",
        "Input: num = [2,1,5], k = 806\n",
        "Output: [1,0,2,1]\n",
        "Explanation: 215 + 806 = 1021\n",
        "\n",
        "\n",
        "**Constraints:**\n",
        "\n",
        "1 <= num.length <= 104\n",
        "0 <= num[i] <= 9\n",
        "num does not contain any leading zeros except for the zero itself.\n",
        "1 <= k <= 104"
      ],
      "metadata": {
        "id": "S-EcXmCGt8MV"
      }
    },
    {
      "cell_type": "markdown",
      "source": [
        "### Accepted Result"
      ],
      "metadata": {
        "id": "n60dWZkXw2pm"
      }
    },
    {
      "cell_type": "code",
      "source": [
        "from typing import List\n",
        "\n",
        "class Solution:\n",
        "  def addToArrayForm(self, num:List[int], k:int) -> List[int]:\n",
        "    str_num = \"\"\n",
        "    for n in num:\n",
        "      str_num = str_num + str(n)\n",
        "    int_num = int(str_num)\n",
        "    str_sum = str(int_num + k)\n",
        "\n",
        "    result = []\n",
        "    for s in str_sum:\n",
        "      result.append(int(s))\n",
        "\n",
        "    return result\n"
      ],
      "metadata": {
        "id": "WwM5AboRuG2W"
      },
      "execution_count": null,
      "outputs": []
    },
    {
      "cell_type": "markdown",
      "source": [
        "Some Tests\n",
        "```\n",
        "import sys\n",
        "sys.set_int_max_str_digits(10**6)\n",
        "```\n",
        "is quite important"
      ],
      "metadata": {
        "id": "7HW5zYCoxVa4"
      }
    },
    {
      "cell_type": "code",
      "source": [
        "num = [2,1,5]\n",
        "k = 806\n",
        "sol = Solution()\n",
        "result = sol.addToArrayForm(num, k)\n",
        "result"
      ],
      "metadata": {
        "colab": {
          "base_uri": "https://localhost:8080/"
        },
        "id": "QlmVtMQwumCt",
        "outputId": "34ddef89-a8d3-487b-8e95-d0cf34c20496"
      },
      "execution_count": null,
      "outputs": [
        {
          "output_type": "execute_result",
          "data": {
            "text/plain": [
              "[1, 0, 2, 1]"
            ]
          },
          "metadata": {},
          "execution_count": 23
        }
      ]
    },
    {
      "cell_type": "code",
      "source": [
        "str_num = \"\"\n",
        "for n in num:\n",
        "  str_num += str(n)\n"
      ],
      "metadata": {
        "id": "n30QYyv2utyc"
      },
      "execution_count": null,
      "outputs": []
    },
    {
      "cell_type": "code",
      "source": [
        "int(str_num)"
      ],
      "metadata": {
        "colab": {
          "base_uri": "https://localhost:8080/"
        },
        "id": "1w4Z4ZsIwEoj",
        "outputId": "fbcb364d-d026-461c-c87d-a9d839979753"
      },
      "execution_count": null,
      "outputs": [
        {
          "output_type": "execute_result",
          "data": {
            "text/plain": [
              "1200"
            ]
          },
          "metadata": {},
          "execution_count": 12
        }
      ]
    },
    {
      "cell_type": "code",
      "source": [],
      "metadata": {
        "id": "WVfkb0tmgKr_"
      },
      "execution_count": null,
      "outputs": []
    },
    {
      "cell_type": "code",
      "source": [],
      "metadata": {
        "id": "f69_Lop5wFUx"
      },
      "execution_count": null,
      "outputs": []
    }
  ]
}